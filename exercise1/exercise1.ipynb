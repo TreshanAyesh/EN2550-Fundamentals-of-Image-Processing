{
 "cells": [
  {
   "cell_type": "markdown",
   "metadata": {},
   "source": [
    "#### Name: Treshan Ayesh\n",
    "#### IndexNum: 190443T"
   ]
  },
  {
   "cell_type": "code",
   "execution_count": 1,
   "metadata": {},
   "outputs": [
    {
     "name": "stdout",
     "output_type": "stream",
     "text": [
      "1 : 1\n",
      "2 : 4\n",
      "3 : 9\n",
      "4 : 16\n",
      "5 : 25\n"
     ]
    }
   ],
   "source": [
    "#Q1)\n",
    "for i in range(1,6):\n",
    "    print(i, ':', i**2)"
   ]
  },
  {
   "cell_type": "code",
   "execution_count": 2,
   "metadata": {},
   "outputs": [
    {
     "name": "stdout",
     "output_type": "stream",
     "text": [
      "1 : 1\n",
      "4 : 16\n"
     ]
    }
   ],
   "source": [
    "#Q2)\n",
    "import sympy as sp\n",
    "for i in range(1,6):\n",
    "    if not sp.isprime(i):\n",
    "        print(i, ':', i**2)\n"
   ]
  },
  {
   "cell_type": "code",
   "execution_count": 3,
   "metadata": {},
   "outputs": [
    {
     "name": "stdout",
     "output_type": "stream",
     "text": [
      "1 : 1\n",
      "2 : 4\n",
      "3 : 9\n",
      "4 : 16\n",
      "5 : 25\n"
     ]
    }
   ],
   "source": [
    "#Q3)\n",
    "squares = [i**2 for i in range(1,6)]\n",
    "for index,val in enumerate(squares):\n",
    "    print(index+1, ':', val)\n"
   ]
  },
  {
   "cell_type": "code",
   "execution_count": 4,
   "metadata": {},
   "outputs": [
    {
     "name": "stdout",
     "output_type": "stream",
     "text": [
      "1 : 1\n",
      "4 : 16\n"
     ]
    }
   ],
   "source": [
    "#Q4)\n",
    "squares = [i**2 for i in range(1,6) if not sp.isprime(i)]\n",
    "for i in squares:\n",
    "    print(int(i**0.5), ':', i)\n",
    "\n"
   ]
  },
  {
   "cell_type": "code",
   "execution_count": 5,
   "metadata": {},
   "outputs": [
    {
     "name": "stdout",
     "output_type": "stream",
     "text": [
      "[[ 9 12 15  9]\n",
      " [25 32 39 19]\n",
      " [41 52 63 29]]\n"
     ]
    }
   ],
   "source": [
    "#Q5) a)\n",
    "import numpy as np\n",
    "A = np.array([[1,2],[3,4],[5,6]])\n",
    "B = np.array([[7,8,9,1],[1,2,3,4]])\n",
    "C = np.matmul(A,B)\n",
    "print(C)"
   ]
  },
  {
   "cell_type": "code",
   "execution_count": 6,
   "metadata": {},
   "outputs": [
    {
     "name": "stdout",
     "output_type": "stream",
     "text": [
      "[[ 3  4]\n",
      " [15 16]\n",
      " [15  6]]\n"
     ]
    }
   ],
   "source": [
    "#Q5) b)\n",
    "A = np.array([[1,2],[3,4],[5,6]])\n",
    "B = np.array([[3,2],[5,4],[3,1]])\n",
    "C = np.multiply(A,B)\n",
    "print(C)"
   ]
  },
  {
   "cell_type": "code",
   "execution_count": 7,
   "metadata": {},
   "outputs": [
    {
     "name": "stdout",
     "output_type": "stream",
     "text": [
      "[[5 9 1 0 3 7 4]\n",
      " [1 9 4 1 6 1 7]\n",
      " [1 9 8 7 0 8 0]\n",
      " [8 7 1 2 7 3 3]\n",
      " [3 2 2 7 8 0 4]]\n",
      "Sub array\n",
      "[[1 9]\n",
      " [1 9]\n",
      " [8 7]]\n",
      "size of sub array: 6\n"
     ]
    }
   ],
   "source": [
    "#Q6)\n",
    "A = np.random.randint(10,size = (5,7))\n",
    "print(A)\n",
    "\n",
    "sub_arr = A[1:4,0:2]\n",
    "print('Sub array')\n",
    "print(sub_arr)\n",
    "\n",
    "print('size of sub array:', sub_arr.size)\n",
    "\n"
   ]
  },
  {
   "cell_type": "code",
   "execution_count": 8,
   "metadata": {},
   "outputs": [
    {
     "name": "stdout",
     "output_type": "stream",
     "text": [
      "[[ 2 12 30]\n",
      " [ 4 16 36]]\n",
      "[[ 3  7 11]\n",
      " [ 4  8 12]]\n",
      "[[-1 -1 -1]\n",
      " [ 0  0  0]]\n"
     ]
    }
   ],
   "source": [
    "#Q7)\n",
    "x = np.array([2,4,6])\n",
    "A = np.array([[1,3,5],[2,4,6]])\n",
    "print(A * x)\n",
    "print(A + x)\n",
    "print(A - x)"
   ]
  },
  {
   "cell_type": "code",
   "execution_count": 9,
   "metadata": {},
   "outputs": [
    {
     "data": {
      "text/plain": [
       "array([[11.27683125],\n",
       "       [-1.18601575]])"
      ]
     },
     "execution_count": 9,
     "metadata": {},
     "output_type": "execute_result"
    }
   ],
   "source": [
    "#Q8)\n",
    "m,c = 2,-4\n",
    "N = 10\n",
    "x = np.linspace(0,N-1,N).reshape (N,1)\n",
    "sigma = 10\n",
    "y = m*x + c + np.random.normal(0,sigma,(N,1))\n",
    "\n",
    "#a)\n",
    "new_column = np.array([[1]]*N)\n",
    "X = np.append(new_column,x, axis = 1)\n",
    "\n",
    "\n",
    "#b)\n",
    "XT = np.transpose(X)\n",
    "C = np.matmul(np.matmul(np.linalg.inv(np.matmul(XT,X)),XT),y)\n",
    "C\n",
    "\n"
   ]
  },
  {
   "cell_type": "code",
   "execution_count": 10,
   "metadata": {},
   "outputs": [
    {
     "name": "stdout",
     "output_type": "stream",
     "text": [
      "square root of 64 : 8.0\n",
      "square root of 75 : 8.660254037844403\n",
      "square root of 100 : 10.0\n",
      "square root of 1600 : 40.0\n"
     ]
    }
   ],
   "source": [
    "#Q9) a)\n",
    "def square_root(num):\n",
    "    n = 0\n",
    "    while not  num // (10**n) < 10:\n",
    "        n += 1\n",
    "    a = num / (10**(2*n))\n",
    "    return (-190/(a + 20) + 10)* (10**n)\n",
    "\n",
    "#b)\n",
    "def square_root_newton(num,precision):\n",
    "    x = square_root(num)\n",
    "    count = 0 \n",
    "    while (1) :\n",
    "        count += 1\n",
    "        root = 0.5 * (x + (num / x))\n",
    "        if (abs(root - x) < precision) :\n",
    "            break\n",
    "        x = root\n",
    " \n",
    "    return root\n",
    "\n",
    "#c)\n",
    "precision = 10**(-5)\n",
    "nums = [64,75,100,1600]\n",
    "for i in nums:\n",
    "    print('square root of',i,':',square_root_newton(i,precision))\n"
   ]
  },
  {
   "cell_type": "code",
   "execution_count": 11,
   "metadata": {},
   "outputs": [],
   "source": [
    "#Q10)\n",
    "import cv2\n",
    "image_1 = cv2.imread(\"gal_gaussian.png\")\n",
    "cv2.namedWindow('image', cv2.WINDOW_AUTOSIZE) \n",
    "cv2.imshow('image',image_1)\n",
    "\n",
    "blur = cv2.GaussianBlur(image_1, (5,5), 0)\n",
    "cv2.namedWindow('image_blured', cv2.WINDOW_AUTOSIZE)\n",
    "cv2.imshow('image_blured',blur)\n",
    "cv2.waitKey(0)\n",
    "cv2.destroyAllWindows()\n"
   ]
  },
  {
   "cell_type": "code",
   "execution_count": 12,
   "metadata": {},
   "outputs": [],
   "source": [
    "#Q11)\n",
    "import cv2\n",
    "image_1 = cv2.imread(\"gal_sandp.png\")\n",
    "median = cv2.medianBlur(image_1,5)\n",
    "\n",
    "cv2.namedWindow('image', cv2.WINDOW_AUTOSIZE) \n",
    "cv2.imshow('image',image_1)\n",
    "\n",
    "cv2.namedWindow('image_median', cv2.WINDOW_AUTOSIZE) \n",
    "cv2.imshow('image_median',median)\n",
    "cv2.waitKey(0)\n",
    "cv2.destroyAllWindows()\n",
    "\n"
   ]
  },
  {
   "cell_type": "code",
   "execution_count": 13,
   "metadata": {},
   "outputs": [],
   "source": [
    "#Q12)\n",
    "import numpy as np\n",
    "im = np.zeros((40,60), dtype = np.uint8)\n",
    "\n",
    "im[0:21,30:61] = 125\n",
    "\n",
    "cv2.namedWindow('image', cv2.WINDOW_AUTOSIZE) \n",
    "cv2.imshow('image',im)\n",
    "cv2.waitKey(0)\n",
    "cv2.destroyAllWindows()\n"
   ]
  },
  {
   "cell_type": "code",
   "execution_count": 14,
   "metadata": {},
   "outputs": [
    {
     "data": {
      "image/png": "[encoded data removed]",
      "text/plain": [
       "<Figure size 432x288 with 1 Axes>"
      ]
     },
     "metadata": {
      "needs_background": "light"
     },
     "output_type": "display_data"
    }
   ],
   "source": [
    "import matplotlib.pyplot as plt\n",
    "im = np.zeros((40,60), dtype = np.uint8)\n",
    "im[0:21,30:61] = 125\n",
    "\n",
    "fig,ax = plt.subplots()\n",
    "ax.imshow(im, cmap = 'gray', vmin = 0, vmax = 255)\n",
    "plt.show()"
   ]
  },
  {
   "cell_type": "code",
   "execution_count": 27,
   "metadata": {},
   "outputs": [
    {
     "data": {
      "image/png": "[encoded data removed]",
      "text/plain": [
       "<Figure size 432x288 with 1 Axes>"
      ]
     },
     "metadata": {
      "needs_background": "light"
     },
     "output_type": "display_data"
    },
    {
     "ename": "ValueError",
     "evalue": "The truth value of an array with more than one element is ambiguous. Use a.any() or a.all()",
     "output_type": "error",
     "traceback": [
      "\u001b[1;31m---------------------------------------------------------------------------\u001b[0m",
      "\u001b[1;31mValueError\u001b[0m                                Traceback (most recent call last)",
      "\u001b[1;32m~\\AppData\\Local\\Temp/ipykernel_27508/1989414469.py\u001b[0m in \u001b[0;36m<module>\u001b[1;34m\u001b[0m\n\u001b[0;32m      9\u001b[0m \u001b[0mfig\u001b[0m\u001b[1;33m,\u001b[0m\u001b[0max\u001b[0m \u001b[1;33m=\u001b[0m \u001b[0mplt\u001b[0m\u001b[1;33m.\u001b[0m\u001b[0msubplots\u001b[0m\u001b[1;33m(\u001b[0m\u001b[1;33m)\u001b[0m\u001b[1;33m\u001b[0m\u001b[1;33m\u001b[0m\u001b[0m\n\u001b[0;32m     10\u001b[0m \u001b[0max\u001b[0m\u001b[1;33m.\u001b[0m\u001b[0mimshow\u001b[0m\u001b[1;33m(\u001b[0m\u001b[0marray\u001b[0m \u001b[1;33m,\u001b[0m\u001b[0mcmap\u001b[0m \u001b[1;33m=\u001b[0m \u001b[1;34m'gray'\u001b[0m\u001b[1;33m,\u001b[0m \u001b[0mvmin\u001b[0m \u001b[1;33m=\u001b[0m \u001b[1;36m0\u001b[0m\u001b[1;33m,\u001b[0m \u001b[0mvmax\u001b[0m \u001b[1;33m=\u001b[0m \u001b[1;36m255\u001b[0m\u001b[1;33m)\u001b[0m\u001b[1;33m\u001b[0m\u001b[1;33m\u001b[0m\u001b[0m\n\u001b[1;32m---> 11\u001b[1;33m \u001b[0mplt\u001b[0m\u001b[1;33m.\u001b[0m\u001b[0mshow\u001b[0m\u001b[1;33m(\u001b[0m\u001b[0mcv2\u001b[0m\u001b[1;33m.\u001b[0m\u001b[0mcvtColor\u001b[0m\u001b[1;33m(\u001b[0m\u001b[0marray\u001b[0m\u001b[1;33m,\u001b[0m \u001b[0mcv2\u001b[0m\u001b[1;33m.\u001b[0m\u001b[0mCOLOR_BGR2RGB\u001b[0m\u001b[1;33m)\u001b[0m\u001b[1;33m)\u001b[0m\u001b[1;33m\u001b[0m\u001b[1;33m\u001b[0m\u001b[0m\n\u001b[0m\u001b[0;32m     12\u001b[0m \u001b[1;33m\u001b[0m\u001b[0m\n\u001b[0;32m     13\u001b[0m \u001b[0mcv2\u001b[0m\u001b[1;33m.\u001b[0m\u001b[0mimshow\u001b[0m\u001b[1;33m(\u001b[0m\u001b[1;34m'image'\u001b[0m\u001b[1;33m,\u001b[0m\u001b[0marray\u001b[0m\u001b[1;33m)\u001b[0m\u001b[1;33m\u001b[0m\u001b[1;33m\u001b[0m\u001b[0m\n",
      "\u001b[1;32m~\\miniconda3\\envs\\BM_1809\\lib\\site-packages\\matplotlib\\pyplot.py\u001b[0m in \u001b[0;36mshow\u001b[1;34m(*args, **kwargs)\u001b[0m\n\u001b[0;32m    366\u001b[0m     \"\"\"\n\u001b[0;32m    367\u001b[0m     \u001b[0m_warn_if_gui_out_of_main_thread\u001b[0m\u001b[1;33m(\u001b[0m\u001b[1;33m)\u001b[0m\u001b[1;33m\u001b[0m\u001b[1;33m\u001b[0m\u001b[0m\n\u001b[1;32m--> 368\u001b[1;33m     \u001b[1;32mreturn\u001b[0m \u001b[0m_backend_mod\u001b[0m\u001b[1;33m.\u001b[0m\u001b[0mshow\u001b[0m\u001b[1;33m(\u001b[0m\u001b[1;33m*\u001b[0m\u001b[0margs\u001b[0m\u001b[1;33m,\u001b[0m \u001b[1;33m**\u001b[0m\u001b[0mkwargs\u001b[0m\u001b[1;33m)\u001b[0m\u001b[1;33m\u001b[0m\u001b[1;33m\u001b[0m\u001b[0m\n\u001b[0m\u001b[0;32m    369\u001b[0m \u001b[1;33m\u001b[0m\u001b[0m\n\u001b[0;32m    370\u001b[0m \u001b[1;33m\u001b[0m\u001b[0m\n",
      "\u001b[1;32m~\\miniconda3\\envs\\BM_1809\\lib\\site-packages\\matplotlib_inline\\backend_inline.py\u001b[0m in \u001b[0;36mshow\u001b[1;34m(close, block)\u001b[0m\n\u001b[0;32m     47\u001b[0m         \u001b[1;31m# only call close('all') if any to close\u001b[0m\u001b[1;33m\u001b[0m\u001b[1;33m\u001b[0m\u001b[0m\n\u001b[0;32m     48\u001b[0m         \u001b[1;31m# close triggers gc.collect, which can be slow\u001b[0m\u001b[1;33m\u001b[0m\u001b[1;33m\u001b[0m\u001b[0m\n\u001b[1;32m---> 49\u001b[1;33m         \u001b[1;32mif\u001b[0m \u001b[0mclose\u001b[0m \u001b[1;32mand\u001b[0m \u001b[0mGcf\u001b[0m\u001b[1;33m.\u001b[0m\u001b[0mget_all_fig_managers\u001b[0m\u001b[1;33m(\u001b[0m\u001b[1;33m)\u001b[0m\u001b[1;33m:\u001b[0m\u001b[1;33m\u001b[0m\u001b[1;33m\u001b[0m\u001b[0m\n\u001b[0m\u001b[0;32m     50\u001b[0m             \u001b[0mmatplotlib\u001b[0m\u001b[1;33m.\u001b[0m\u001b[0mpyplot\u001b[0m\u001b[1;33m.\u001b[0m\u001b[0mclose\u001b[0m\u001b[1;33m(\u001b[0m\u001b[1;34m'all'\u001b[0m\u001b[1;33m)\u001b[0m\u001b[1;33m\u001b[0m\u001b[1;33m\u001b[0m\u001b[0m\n\u001b[0;32m     51\u001b[0m \u001b[1;33m\u001b[0m\u001b[0m\n",
      "\u001b[1;31mValueError\u001b[0m: The truth value of an array with more than one element is ambiguous. Use a.any() or a.all()"
     ]
    },
    {
     "data": {
      "image/png": "[encoded data removed]",
      "text/plain": [
       "<Figure size 432x288 with 1 Axes>"
      ]
     },
     "metadata": {
      "needs_background": "light"
     },
     "output_type": "display_data"
    }
   ],
   "source": [
    "#Q13)\n",
    "\n",
    "no_of_channels = 3\n",
    "color = (255,255,255)\n",
    "array = np.full((40, 60, no_of_channels), color, dtype=np.uint8)\n",
    "\n",
    "array[20:41,0:31] = (138, 33, 224)\n",
    "\n",
    "fig,ax = plt.subplots()\n",
    "ax.imshow(array ,cmap = 'gray', vmin = 0, vmax = 255)\n",
    "plt.show()\n",
    "\n",
    "cv2.imshow('image',array)\n",
    "cv2.waitKey(0)\n",
    "cv2.destroyAllWindows()"
   ]
  },
  {
   "cell_type": "code",
   "execution_count": 22,
   "metadata": {},
   "outputs": [],
   "source": [
    "#Q14)\n",
    "img = cv2.imread(\"tom_dark.jpg\")\n",
    "\n",
    "brightness = 40\n",
    "new_arr = np.array(img) + brightness\n",
    "\n",
    "\n",
    "\n",
    "cv2.imshow('image_original',img)\n",
    "cv2.imshow('brightened', new_arr)\n",
    "cv2.waitKey(0)\n",
    "cv2.destroyAllWindows()"
   ]
  }
 ],
 "metadata": {
  "interpreter": {
   "hash": "a7634d91ae9cbbf2d422203acf1eb8b78abc510ac755290a040fe5181a6021ec"
  },
  "kernelspec": {
   "display_name": "Python 3.9.7 64-bit ('BM_1809': conda)",
   "language": "python",
   "name": "python3"
  },
  "language_info": {
   "codemirror_mode": {
    "name": "ipython",
    "version": 3
   },
   "file_extension": ".py",
   "mimetype": "text/x-python",
   "name": "python",
   "nbconvert_exporter": "python",
   "pygments_lexer": "ipython3",
   "version": "3.9.7"
  },
  "orig_nbformat": 4
 },
 "nbformat": 4,
 "nbformat_minor": 2
}
